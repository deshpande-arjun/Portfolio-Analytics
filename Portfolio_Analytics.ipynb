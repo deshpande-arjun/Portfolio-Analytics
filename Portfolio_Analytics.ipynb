{
  "nbformat": 4,
  "nbformat_minor": 0,
  "metadata": {
    "colab": {
      "provenance": [],
      "gpuType": "V28",
      "include_colab_link": true
    },
    "kernelspec": {
      "name": "python3",
      "display_name": "Python 3"
    },
    "language_info": {
      "name": "python"
    },
    "accelerator": "TPU"
  },
  "cells": [
    {
      "cell_type": "markdown",
      "metadata": {
        "id": "view-in-github",
        "colab_type": "text"
      },
      "source": [
        "<a href=\"https://colab.research.google.com/github/deshpande-arjun/Portfolio-Analytics/blob/main/Portfolio_Analytics.ipynb\" target=\"_parent\"><img src=\"https://colab.research.google.com/assets/colab-badge.svg\" alt=\"Open In Colab\"/></a>"
      ]
    },
    {
      "cell_type": "markdown",
      "source": [
        "Installing the Portfolio Analytics package\n"
      ],
      "metadata": {
        "id": "RPyaoz1YYpI-"
      }
    },
    {
      "cell_type": "code",
      "execution_count": 1,
      "metadata": {
        "colab": {
          "base_uri": "https://localhost:8080/"
        },
        "id": "yNDSKI5gXlYc",
        "outputId": "db6d6da6-34d4-4387-c7e8-ae5ac9fb2635"
      },
      "outputs": [
        {
          "output_type": "stream",
          "name": "stdout",
          "text": [
            "Collecting git+https://github.com/deshpande-arjun/Portfolio-Analytics.git\n",
            "  Cloning https://github.com/deshpande-arjun/Portfolio-Analytics.git to /tmp/pip-req-build-n_yunp58\n",
            "  Running command git clone --filter=blob:none --quiet https://github.com/deshpande-arjun/Portfolio-Analytics.git /tmp/pip-req-build-n_yunp58\n",
            "  Resolved https://github.com/deshpande-arjun/Portfolio-Analytics.git to commit ea953a9cd0c1e00fdcbbc19ba3fb9ef8403d5df1\n",
            "  Preparing metadata (setup.py) ... \u001b[?25l\u001b[?25hdone\n",
            "Collecting yfinance (from portfolio_analytics==0.1)\n",
            "  Downloading yfinance-0.2.54-py2.py3-none-any.whl.metadata (5.8 kB)\n",
            "Requirement already satisfied: requests in /usr/local/lib/python3.11/dist-packages (from portfolio_analytics==0.1) (2.32.3)\n",
            "Requirement already satisfied: pandas in /usr/local/lib/python3.11/dist-packages (from portfolio_analytics==0.1) (2.2.2)\n",
            "Requirement already satisfied: numpy in /usr/local/lib/python3.11/dist-packages (from portfolio_analytics==0.1) (1.26.4)\n",
            "Requirement already satisfied: python-dateutil>=2.8.2 in /usr/local/lib/python3.11/dist-packages (from pandas->portfolio_analytics==0.1) (2.9.0.post0)\n",
            "Requirement already satisfied: pytz>=2020.1 in /usr/local/lib/python3.11/dist-packages (from pandas->portfolio_analytics==0.1) (2025.1)\n",
            "Requirement already satisfied: tzdata>=2022.7 in /usr/local/lib/python3.11/dist-packages (from pandas->portfolio_analytics==0.1) (2025.1)\n",
            "Requirement already satisfied: charset-normalizer<4,>=2 in /usr/local/lib/python3.11/dist-packages (from requests->portfolio_analytics==0.1) (3.4.1)\n",
            "Requirement already satisfied: idna<4,>=2.5 in /usr/local/lib/python3.11/dist-packages (from requests->portfolio_analytics==0.1) (3.10)\n",
            "Requirement already satisfied: urllib3<3,>=1.21.1 in /usr/local/lib/python3.11/dist-packages (from requests->portfolio_analytics==0.1) (2.3.0)\n",
            "Requirement already satisfied: certifi>=2017.4.17 in /usr/local/lib/python3.11/dist-packages (from requests->portfolio_analytics==0.1) (2025.1.31)\n",
            "Collecting multitasking>=0.0.7 (from yfinance->portfolio_analytics==0.1)\n",
            "  Downloading multitasking-0.0.11-py3-none-any.whl.metadata (5.5 kB)\n",
            "Requirement already satisfied: platformdirs>=2.0.0 in /usr/local/lib/python3.11/dist-packages (from yfinance->portfolio_analytics==0.1) (4.3.6)\n",
            "Collecting frozendict>=2.3.4 (from yfinance->portfolio_analytics==0.1)\n",
            "  Downloading frozendict-2.4.6-py311-none-any.whl.metadata (23 kB)\n",
            "Collecting peewee>=3.16.2 (from yfinance->portfolio_analytics==0.1)\n",
            "  Downloading peewee-3.17.9.tar.gz (3.0 MB)\n",
            "\u001b[2K     \u001b[90m━━━━━━━━━━━━━━━━━━━━━━━━━━━━━━━━━━━━━━━━\u001b[0m \u001b[32m3.0/3.0 MB\u001b[0m \u001b[31m32.8 MB/s\u001b[0m eta \u001b[36m0:00:00\u001b[0m\n",
            "\u001b[?25h  Installing build dependencies ... \u001b[?25l\u001b[?25hdone\n",
            "  Getting requirements to build wheel ... \u001b[?25l\u001b[?25hdone\n",
            "  Preparing metadata (pyproject.toml) ... \u001b[?25l\u001b[?25hdone\n",
            "Requirement already satisfied: beautifulsoup4>=4.11.1 in /usr/local/lib/python3.11/dist-packages (from yfinance->portfolio_analytics==0.1) (4.13.3)\n",
            "Requirement already satisfied: soupsieve>1.2 in /usr/local/lib/python3.11/dist-packages (from beautifulsoup4>=4.11.1->yfinance->portfolio_analytics==0.1) (2.6)\n",
            "Requirement already satisfied: typing-extensions>=4.0.0 in /usr/local/lib/python3.11/dist-packages (from beautifulsoup4>=4.11.1->yfinance->portfolio_analytics==0.1) (4.12.2)\n",
            "Requirement already satisfied: six>=1.5 in /usr/local/lib/python3.11/dist-packages (from python-dateutil>=2.8.2->pandas->portfolio_analytics==0.1) (1.17.0)\n",
            "Downloading yfinance-0.2.54-py2.py3-none-any.whl (108 kB)\n",
            "\u001b[2K   \u001b[90m━━━━━━━━━━━━━━━━━━━━━━━━━━━━━━━━━━━━━━━━\u001b[0m \u001b[32m108.7/108.7 kB\u001b[0m \u001b[31m1.3 MB/s\u001b[0m eta \u001b[36m0:00:00\u001b[0m\n",
            "\u001b[?25hDownloading frozendict-2.4.6-py311-none-any.whl (16 kB)\n",
            "Downloading multitasking-0.0.11-py3-none-any.whl (8.5 kB)\n",
            "Building wheels for collected packages: portfolio_analytics, peewee\n",
            "  Building wheel for portfolio_analytics (setup.py) ... \u001b[?25l\u001b[?25hdone\n",
            "  Created wheel for portfolio_analytics: filename=portfolio_analytics-0.1-py3-none-any.whl size=9854 sha256=991eb8a1e624bc26075b51427d6a51ee1f8e8f0d4829973f0406f83f8af19ef7\n",
            "  Stored in directory: /tmp/pip-ephem-wheel-cache-jyv8zype/wheels/d1/84/b8/82b5c9efe21fdcd9b878a1fdad55608e55b0f3375286186aec\n",
            "  Building wheel for peewee (pyproject.toml) ... \u001b[?25l\u001b[?25hdone\n",
            "  Created wheel for peewee: filename=peewee-3.17.9-cp311-cp311-linux_x86_64.whl size=886606 sha256=0abfc23cc0878e7f739dee44d3bf995c91e2cee9eb6d4c3200705b7822584b8d\n",
            "  Stored in directory: /root/.cache/pip/wheels/f4/14/e4/50c88c865833085aeb91e2bd40e3a683ff434806386b8ee7bc\n",
            "Successfully built portfolio_analytics peewee\n",
            "Installing collected packages: peewee, multitasking, frozendict, yfinance, portfolio_analytics\n",
            "Successfully installed frozendict-2.4.6 multitasking-0.0.11 peewee-3.17.9 portfolio_analytics-0.1 yfinance-0.2.54\n"
          ]
        }
      ],
      "source": [
        "!pip install git+https://github.com/deshpande-arjun/Portfolio-Analytics.git"
      ]
    },
    {
      "cell_type": "code",
      "source": [
        "!pip list | grep portfolio_analytics"
      ],
      "metadata": {
        "colab": {
          "base_uri": "https://localhost:8080/"
        },
        "collapsed": true,
        "id": "cKPqa-fEc_lG",
        "outputId": "0760b867-039b-4cbd-c5ba-3ab4984e1a1c"
      },
      "execution_count": 2,
      "outputs": [
        {
          "output_type": "stream",
          "name": "stdout",
          "text": [
            "portfolio_analytics          0.1\n"
          ]
        }
      ]
    },
    {
      "cell_type": "code",
      "source": [
        "import pandas as pd\n",
        "from google.colab import files\n",
        "from classes.portfolio_decomposer import PortfolioDecomposer\n",
        "from classes.market_data import MarketData"
      ],
      "metadata": {
        "id": "uP7SlhlwX66F"
      },
      "execution_count": 3,
      "outputs": []
    },
    {
      "cell_type": "code",
      "source": [
        "def upload_file():\n",
        "    \"\"\"Allows the user to upload an Excel or CSV file.\"\"\"\n",
        "    uploaded = files.upload()  # Opens file upload box in Colab\n",
        "    for filename in uploaded.keys():\n",
        "        print(f\"Uploaded file: {filename}\")\n",
        "        return filename  # Return the uploaded file name\n"
      ],
      "metadata": {
        "id": "iblczIIMYHpG"
      },
      "execution_count": 4,
      "outputs": []
    },
    {
      "cell_type": "code",
      "source": [
        "import os\n",
        "import requests\n",
        "\n",
        "# Define data directory\n",
        "Data_dir = \"data\"\n",
        "os.makedirs(Data_dir, exist_ok=True)\n",
        "\n",
        "# Define URLs of database files hosted on GitHub\n",
        "github_base_url = \"https://raw.githubusercontent.com/deshpande-arjun/Portfolio-Analytics/refs/heads/main/data\"\n",
        "stocks_db_url = f\"{github_base_url}/stocks.db\"\n",
        "etf_metadata_url = f\"{github_base_url}/etf_metadata.json\"\n",
        "\n",
        "# Define local file paths\n",
        "db_path = os.path.join(Data_dir, \"stocks.db\")\n",
        "meta_path = os.path.join(Data_dir, \"etf_metadata.json\")\n",
        "\n",
        "# Function to download files\n",
        "def download_file(url, save_path):\n",
        "    response = requests.get(url)\n",
        "    if response.status_code == 200:\n",
        "        with open(save_path, \"wb\") as file:\n",
        "            file.write(response.content)\n",
        "        print(f\"Downloaded: {save_path}\")\n",
        "    else:\n",
        "        print(f\"Failed to download {url}\")\n",
        "\n",
        "# Download the databases\n",
        "download_file(stocks_db_url, db_path)\n",
        "download_file(etf_metadata_url, meta_path)"
      ],
      "metadata": {
        "colab": {
          "base_uri": "https://localhost:8080/"
        },
        "id": "MAFBrU1lfK2-",
        "outputId": "40b17760-9338-4642-ec0e-d900264a7db3"
      },
      "execution_count": 5,
      "outputs": [
        {
          "output_type": "stream",
          "name": "stdout",
          "text": [
            "Downloaded: data/stocks.db\n",
            "Downloaded: data/etf_metadata.json\n"
          ]
        }
      ]
    },
    {
      "cell_type": "code",
      "source": [
        "from classes.market_data import MarketData\n",
        "from classes.portfolio_decomposer import PortfolioDecomposer\n",
        "import pandas as pd\n",
        "#import ace_tools as tools  # For displaying output\n",
        "\n",
        "# Initialize MarketData with downloaded databases\n",
        "market_data = MarketData(db_name=db_path, meta_file=meta_path)\n",
        "\n",
        "# Upload portfolio file\n",
        "from google.colab import files\n",
        "uploaded = files.upload()\n",
        "portfolio_file = list(uploaded.keys())[0]\n",
        "\n",
        "# Read the portfolio file\n",
        "df = pd.read_csv(portfolio_file)\n",
        "\n",
        "# Initialize PortfolioDecomposer\n",
        "portfolio_analyzer = PortfolioDecomposer(port=df, market_data=market_data)\n",
        "\n",
        "# Decompose Portfolio\n",
        "decomposed_portfolio_stocks = portfolio_analyzer.decompose_stocks()\n",
        "decomposed_portfolio_sectors = portfolio_analyzer.decompose_sectors()\n",
        "\n",
        "\n",
        "# Get Top 15 Holdings\n",
        "top_15_holdings = decomposed_portfolio_stocks.nlargest(15, \"allocation\")\n",
        "\n",
        "# Display the result\n",
        "from IPython.display import display\n",
        "\n",
        "display(top_15_holdings)\n",
        "display(decomposed_portfolio_sectors)"
      ],
      "metadata": {
        "colab": {
          "base_uri": "https://localhost:8080/",
          "height": 393
        },
        "id": "d0t-DK6GZJHL",
        "outputId": "ead1d92d-e97c-48fb-86c4-ddb43f43d2e7"
      },
      "execution_count": 1,
      "outputs": [
        {
          "output_type": "error",
          "ename": "ModuleNotFoundError",
          "evalue": "No module named 'classes'",
          "traceback": [
            "\u001b[0;31m---------------------------------------------------------------------------\u001b[0m",
            "\u001b[0;31mModuleNotFoundError\u001b[0m                       Traceback (most recent call last)",
            "\u001b[0;32m<ipython-input-1-8a09a8f9dbca>\u001b[0m in \u001b[0;36m<cell line: 0>\u001b[0;34m()\u001b[0m\n\u001b[0;32m----> 1\u001b[0;31m \u001b[0;32mfrom\u001b[0m \u001b[0mclasses\u001b[0m\u001b[0;34m.\u001b[0m\u001b[0mmarket_data\u001b[0m \u001b[0;32mimport\u001b[0m \u001b[0mMarketData\u001b[0m\u001b[0;34m\u001b[0m\u001b[0;34m\u001b[0m\u001b[0m\n\u001b[0m\u001b[1;32m      2\u001b[0m \u001b[0;32mfrom\u001b[0m \u001b[0mclasses\u001b[0m\u001b[0;34m.\u001b[0m\u001b[0mportfolio_decomposer\u001b[0m \u001b[0;32mimport\u001b[0m \u001b[0mPortfolioDecomposer\u001b[0m\u001b[0;34m\u001b[0m\u001b[0;34m\u001b[0m\u001b[0m\n\u001b[1;32m      3\u001b[0m \u001b[0;32mimport\u001b[0m \u001b[0mpandas\u001b[0m \u001b[0;32mas\u001b[0m \u001b[0mpd\u001b[0m\u001b[0;34m\u001b[0m\u001b[0;34m\u001b[0m\u001b[0m\n\u001b[1;32m      4\u001b[0m \u001b[0;31m#import ace_tools as tools  # For displaying output\u001b[0m\u001b[0;34m\u001b[0m\u001b[0;34m\u001b[0m\u001b[0m\n\u001b[1;32m      5\u001b[0m \u001b[0;34m\u001b[0m\u001b[0m\n",
            "\u001b[0;31mModuleNotFoundError\u001b[0m: No module named 'classes'",
            "",
            "\u001b[0;31m---------------------------------------------------------------------------\u001b[0;32m\nNOTE: If your import is failing due to a missing package, you can\nmanually install dependencies using either !pip or !apt.\n\nTo view examples of installing some common dependencies, click the\n\"Open Examples\" button below.\n\u001b[0;31m---------------------------------------------------------------------------\u001b[0m\n"
          ],
          "errorDetails": {
            "actions": [
              {
                "action": "open_url",
                "actionText": "Open Examples",
                "url": "/notebooks/snippets/importing_libraries.ipynb"
              }
            ]
          }
        }
      ]
    },
    {
      "cell_type": "code",
      "source": [],
      "metadata": {
        "id": "xEGbgK81dPf0"
      },
      "execution_count": null,
      "outputs": []
    }
  ]
}